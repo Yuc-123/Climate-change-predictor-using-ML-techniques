{
 "cells": [
  {
   "cell_type": "code",
   "execution_count": 2,
   "id": "976cff4e-7e06-430e-bc2e-ad500dd3b6b3",
   "metadata": {},
   "outputs": [],
   "source": [
    "import numpy as np\n",
    "import pandas as pd\n",
    "from sklearn.preprocessing import StandardScaler\n",
    "from sklearn.model_selection import train_test_split\n",
    "import tensorflow as tf\n",
    "from tensorflow.keras.models import Sequential\n",
    "from tensorflow.keras.layers import SimpleRNN, Dense\n",
    "from sklearn.metrics import mean_squared_error\n",
    "from sklearn.preprocessing import MinMaxScaler\n",
    "from tensorflow.keras.layers import Dropout\n",
    "import matplotlib.pyplot as plt"
   ]
  },
  {
   "cell_type": "code",
   "execution_count": 3,
   "id": "8e6b374a-e040-470c-9c40-f5ff5f91ab1f",
   "metadata": {},
   "outputs": [],
   "source": [
    "data =  pd.read_csv('n2o_mm_gl.csv')"
   ]
  },
  {
   "cell_type": "code",
   "execution_count": 4,
   "id": "bf96cafd-ac0d-44ff-8f53-c13e52577d0f",
   "metadata": {},
   "outputs": [],
   "source": [
    "X = data.drop('N2O_conc', axis=1) # Features\n",
    "y = data['N2O_conc'].to_numpy()\n",
    "y=y.reshape(len(y),1)"
   ]
  },
  {
   "cell_type": "code",
   "execution_count": 5,
   "id": "0574f502-8abf-4bf2-87df-830c18956cf3",
   "metadata": {},
   "outputs": [],
   "source": [
    "X_train, X_test_val, y_train, y_test_val = train_test_split(X, y, test_size=0.2, random_state=42)\n",
    "X_test, X_val, y_test, y_val = train_test_split(X_test_val, y_test_val, test_size=0.5, random_state=42)"
   ]
  },
  {
   "cell_type": "code",
   "execution_count": 6,
   "id": "08ff4936-c504-43d8-a6aa-602fb9a51025",
   "metadata": {},
   "outputs": [],
   "source": [
    "sc_x = MinMaxScaler()\n",
    "sc_y=MinMaxScaler()"
   ]
  },
  {
   "cell_type": "code",
   "execution_count": 7,
   "id": "5e4b10b4-27ed-4011-af17-433f7e7693f6",
   "metadata": {},
   "outputs": [],
   "source": [
    "sc_x = MinMaxScaler()\n",
    "sc_y=MinMaxScaler()"
   ]
  },
  {
   "cell_type": "code",
   "execution_count": 8,
   "id": "cb64750e-0132-4b14-816c-2bd7a70a3990",
   "metadata": {},
   "outputs": [],
   "source": [
    "X_train_sc=sc_x.fit_transform(X_train)\n",
    "X_test_sc=sc_x.fit_transform(X_test)\n",
    "y_train_sc=sc_y.fit_transform(y_train)\n",
    "y_test_sc=sc_y.fit_transform(y_test)\n",
    "X_val_sc=sc_x.fit_transform(X_val)\n",
    "y_val_sc=sc_y.fit_transform(y_val)"
   ]
  },
  {
   "cell_type": "code",
   "execution_count": 9,
   "id": "fd3ddf74-37ec-4b2c-9c85-ce9b027c1039",
   "metadata": {},
   "outputs": [],
   "source": [
    "X_train_sc = X_train_sc.reshape((X_train_sc.shape[0], X_train_sc.shape[1], 1))\n",
    "X_val_ = X_val_sc.reshape((X_val.shape[0], X_val.shape[1], 1))\n",
    "X_test_sc = X_test_sc.reshape((X_test_sc.shape[0], X_test_sc.shape[1], 1))\n",
    "y_val = y_val.reshape((y_val.shape[0], y_val.shape[1], 1))"
   ]
  },
  {
   "cell_type": "code",
   "execution_count": 10,
   "id": "e8c6af6d-22df-4872-b14c-331e5a7b7d37",
   "metadata": {},
   "outputs": [
    {
     "name": "stderr",
     "output_type": "stream",
     "text": [
      "C:\\Users\\DELL\\AppData\\Local\\Programs\\Python\\Python312\\Lib\\site-packages\\keras\\src\\layers\\core\\dense.py:88: UserWarning: Do not pass an `input_shape`/`input_dim` argument to a layer. When using Sequential models, prefer using an `Input(shape)` object as the first layer in the model instead.\n",
      "  super().__init__(activity_regularizer=activity_regularizer, **kwargs)\n"
     ]
    }
   ],
   "source": [
    "model = Sequential()\n",
    "model.add(Dense(units=50, activation='relu', input_shape=(2,)))  # 2 input features\n",
    "model.add(Dropout(0.2))  # Dropout layer with a dropout rate of 0.\n",
    "\n",
    "model.add(Dense(units=50, activation='relu'))  # Second hidden layer with 50 neurons\n",
    "model.add(Dropout(0.2))  # Dropout layer with a dropout rate of 0.2\n",
    "model.add(Dense(units=1))  "
   ]
  },
  {
   "cell_type": "code",
   "execution_count": 11,
   "id": "457131e1-e64f-4eb5-b11f-c3f0dc8739b7",
   "metadata": {},
   "outputs": [],
   "source": [
    "model.compile(optimizer='adam', loss='mean_squared_error')"
   ]
  },
  {
   "cell_type": "code",
   "execution_count": 12,
   "id": "2431f063-3c73-4d94-a9a3-b9aca43eaa7f",
   "metadata": {},
   "outputs": [
    {
     "name": "stdout",
     "output_type": "stream",
     "text": [
      "Epoch 1/150\n",
      "14/14 - 2s - 140ms/step - loss: 0.1449 - val_loss: 0.1021\n",
      "Epoch 2/150\n",
      "14/14 - 0s - 8ms/step - loss: 0.0555 - val_loss: 0.0395\n",
      "Epoch 3/150\n",
      "14/14 - 0s - 8ms/step - loss: 0.0410 - val_loss: 0.0209\n",
      "Epoch 4/150\n",
      "14/14 - 0s - 7ms/step - loss: 0.0234 - val_loss: 0.0174\n",
      "Epoch 5/150\n",
      "14/14 - 0s - 8ms/step - loss: 0.0157 - val_loss: 0.0080\n",
      "Epoch 6/150\n",
      "14/14 - 0s - 8ms/step - loss: 0.0169 - val_loss: 0.0047\n",
      "Epoch 7/150\n",
      "14/14 - 0s - 7ms/step - loss: 0.0159 - val_loss: 0.0033\n",
      "Epoch 8/150\n",
      "14/14 - 0s - 7ms/step - loss: 0.0105 - val_loss: 0.0084\n",
      "Epoch 9/150\n",
      "14/14 - 0s - 15ms/step - loss: 0.0123 - val_loss: 0.0049\n",
      "Epoch 10/150\n",
      "14/14 - 0s - 7ms/step - loss: 0.0125 - val_loss: 0.0071\n",
      "Epoch 11/150\n",
      "14/14 - 0s - 7ms/step - loss: 0.0131 - val_loss: 0.0041\n",
      "Epoch 12/150\n",
      "14/14 - 0s - 7ms/step - loss: 0.0079 - val_loss: 0.0048\n",
      "Epoch 13/150\n",
      "14/14 - 0s - 7ms/step - loss: 0.0089 - val_loss: 0.0069\n",
      "Epoch 14/150\n",
      "14/14 - 0s - 7ms/step - loss: 0.0071 - val_loss: 0.0026\n",
      "Epoch 15/150\n",
      "14/14 - 0s - 7ms/step - loss: 0.0095 - val_loss: 0.0032\n",
      "Epoch 16/150\n",
      "14/14 - 0s - 7ms/step - loss: 0.0068 - val_loss: 0.0034\n",
      "Epoch 17/150\n",
      "14/14 - 0s - 7ms/step - loss: 0.0058 - val_loss: 0.0063\n",
      "Epoch 18/150\n",
      "14/14 - 0s - 7ms/step - loss: 0.0087 - val_loss: 0.0039\n",
      "Epoch 19/150\n",
      "14/14 - 0s - 7ms/step - loss: 0.0093 - val_loss: 0.0023\n",
      "Epoch 20/150\n",
      "14/14 - 0s - 7ms/step - loss: 0.0071 - val_loss: 0.0040\n",
      "Epoch 21/150\n",
      "14/14 - 0s - 7ms/step - loss: 0.0074 - val_loss: 0.0018\n",
      "Epoch 22/150\n",
      "14/14 - 0s - 7ms/step - loss: 0.0069 - val_loss: 0.0037\n",
      "Epoch 23/150\n",
      "14/14 - 0s - 7ms/step - loss: 0.0072 - val_loss: 0.0025\n",
      "Epoch 24/150\n",
      "14/14 - 0s - 7ms/step - loss: 0.0063 - val_loss: 0.0043\n",
      "Epoch 25/150\n",
      "14/14 - 0s - 8ms/step - loss: 0.0055 - val_loss: 0.0026\n",
      "Epoch 26/150\n",
      "14/14 - 0s - 7ms/step - loss: 0.0074 - val_loss: 0.0044\n",
      "Epoch 27/150\n",
      "14/14 - 0s - 7ms/step - loss: 0.0057 - val_loss: 0.0048\n",
      "Epoch 28/150\n",
      "14/14 - 0s - 8ms/step - loss: 0.0071 - val_loss: 0.0030\n",
      "Epoch 29/150\n",
      "14/14 - 0s - 6ms/step - loss: 0.0067 - val_loss: 0.0060\n",
      "Epoch 30/150\n",
      "14/14 - 0s - 7ms/step - loss: 0.0064 - val_loss: 0.0032\n",
      "Epoch 31/150\n",
      "14/14 - 0s - 8ms/step - loss: 0.0059 - val_loss: 0.0060\n",
      "Epoch 32/150\n",
      "14/14 - 0s - 7ms/step - loss: 0.0062 - val_loss: 0.0022\n",
      "Epoch 33/150\n",
      "14/14 - 0s - 8ms/step - loss: 0.0045 - val_loss: 0.0055\n",
      "Epoch 34/150\n",
      "14/14 - 0s - 7ms/step - loss: 0.0055 - val_loss: 0.0053\n",
      "Epoch 35/150\n",
      "14/14 - 0s - 7ms/step - loss: 0.0065 - val_loss: 0.0014\n",
      "Epoch 36/150\n",
      "14/14 - 0s - 7ms/step - loss: 0.0065 - val_loss: 0.0032\n",
      "Epoch 37/150\n",
      "14/14 - 0s - 8ms/step - loss: 0.0068 - val_loss: 0.0044\n",
      "Epoch 38/150\n",
      "14/14 - 0s - 7ms/step - loss: 0.0052 - val_loss: 0.0030\n",
      "Epoch 39/150\n",
      "14/14 - 0s - 7ms/step - loss: 0.0047 - val_loss: 0.0046\n",
      "Epoch 40/150\n",
      "14/14 - 0s - 7ms/step - loss: 0.0049 - val_loss: 0.0034\n",
      "Epoch 41/150\n",
      "14/14 - 0s - 7ms/step - loss: 0.0047 - val_loss: 0.0057\n",
      "Epoch 42/150\n",
      "14/14 - 0s - 7ms/step - loss: 0.0062 - val_loss: 0.0024\n",
      "Epoch 43/150\n",
      "14/14 - 0s - 7ms/step - loss: 0.0045 - val_loss: 0.0060\n",
      "Epoch 44/150\n",
      "14/14 - 0s - 7ms/step - loss: 0.0058 - val_loss: 0.0027\n",
      "Epoch 45/150\n",
      "14/14 - 0s - 7ms/step - loss: 0.0062 - val_loss: 0.0052\n",
      "Epoch 46/150\n",
      "14/14 - 0s - 7ms/step - loss: 0.0059 - val_loss: 0.0042\n",
      "Epoch 47/150\n",
      "14/14 - 0s - 7ms/step - loss: 0.0050 - val_loss: 0.0026\n",
      "Epoch 48/150\n",
      "14/14 - 0s - 7ms/step - loss: 0.0044 - val_loss: 0.0071\n",
      "Epoch 49/150\n",
      "14/14 - 0s - 7ms/step - loss: 0.0060 - val_loss: 0.0042\n",
      "Epoch 50/150\n",
      "14/14 - 0s - 7ms/step - loss: 0.0055 - val_loss: 0.0032\n",
      "Epoch 51/150\n",
      "14/14 - 0s - 7ms/step - loss: 0.0054 - val_loss: 0.0046\n",
      "Epoch 52/150\n",
      "14/14 - 0s - 7ms/step - loss: 0.0060 - val_loss: 0.0027\n",
      "Epoch 53/150\n",
      "14/14 - 0s - 7ms/step - loss: 0.0056 - val_loss: 0.0040\n",
      "Epoch 54/150\n",
      "14/14 - 0s - 7ms/step - loss: 0.0050 - val_loss: 0.0034\n",
      "Epoch 55/150\n",
      "14/14 - 0s - 7ms/step - loss: 0.0041 - val_loss: 0.0026\n",
      "Epoch 56/150\n",
      "14/14 - 0s - 7ms/step - loss: 0.0038 - val_loss: 0.0046\n",
      "Epoch 57/150\n",
      "14/14 - 0s - 6ms/step - loss: 0.0046 - val_loss: 0.0045\n",
      "Epoch 58/150\n",
      "14/14 - 0s - 7ms/step - loss: 0.0048 - val_loss: 0.0042\n",
      "Epoch 59/150\n",
      "14/14 - 0s - 7ms/step - loss: 0.0047 - val_loss: 0.0062\n",
      "Epoch 60/150\n",
      "14/14 - 0s - 7ms/step - loss: 0.0043 - val_loss: 0.0040\n",
      "Epoch 61/150\n",
      "14/14 - 0s - 7ms/step - loss: 0.0031 - val_loss: 0.0069\n",
      "Epoch 62/150\n",
      "14/14 - 0s - 23ms/step - loss: 0.0038 - val_loss: 0.0052\n",
      "Epoch 63/150\n",
      "14/14 - 0s - 7ms/step - loss: 0.0040 - val_loss: 0.0041\n",
      "Epoch 64/150\n",
      "14/14 - 0s - 8ms/step - loss: 0.0046 - val_loss: 0.0047\n",
      "Epoch 65/150\n",
      "14/14 - 0s - 6ms/step - loss: 0.0037 - val_loss: 0.0053\n",
      "Epoch 66/150\n",
      "14/14 - 0s - 7ms/step - loss: 0.0052 - val_loss: 0.0043\n",
      "Epoch 67/150\n",
      "14/14 - 0s - 7ms/step - loss: 0.0049 - val_loss: 0.0041\n",
      "Epoch 68/150\n",
      "14/14 - 0s - 7ms/step - loss: 0.0042 - val_loss: 0.0033\n",
      "Epoch 69/150\n",
      "14/14 - 0s - 7ms/step - loss: 0.0034 - val_loss: 0.0036\n",
      "Epoch 70/150\n",
      "14/14 - 0s - 6ms/step - loss: 0.0033 - val_loss: 0.0062\n",
      "Epoch 71/150\n",
      "14/14 - 0s - 7ms/step - loss: 0.0051 - val_loss: 0.0035\n",
      "Epoch 72/150\n",
      "14/14 - 0s - 6ms/step - loss: 0.0043 - val_loss: 0.0040\n",
      "Epoch 73/150\n",
      "14/14 - 0s - 7ms/step - loss: 0.0033 - val_loss: 0.0065\n",
      "Epoch 74/150\n",
      "14/14 - 0s - 7ms/step - loss: 0.0040 - val_loss: 0.0031\n",
      "Epoch 75/150\n",
      "14/14 - 0s - 7ms/step - loss: 0.0044 - val_loss: 0.0033\n",
      "Epoch 76/150\n",
      "14/14 - 0s - 7ms/step - loss: 0.0045 - val_loss: 0.0041\n",
      "Epoch 77/150\n",
      "14/14 - 0s - 7ms/step - loss: 0.0042 - val_loss: 0.0019\n",
      "Epoch 78/150\n",
      "14/14 - 0s - 7ms/step - loss: 0.0039 - val_loss: 0.0051\n",
      "Epoch 79/150\n",
      "14/14 - 0s - 7ms/step - loss: 0.0040 - val_loss: 0.0080\n",
      "Epoch 80/150\n",
      "14/14 - 0s - 7ms/step - loss: 0.0046 - val_loss: 0.0020\n",
      "Epoch 81/150\n",
      "14/14 - 0s - 7ms/step - loss: 0.0051 - val_loss: 0.0049\n",
      "Epoch 82/150\n",
      "14/14 - 0s - 8ms/step - loss: 0.0037 - val_loss: 0.0077\n",
      "Epoch 83/150\n",
      "14/14 - 0s - 11ms/step - loss: 0.0041 - val_loss: 0.0029\n",
      "Epoch 84/150\n",
      "14/14 - 0s - 11ms/step - loss: 0.0036 - val_loss: 0.0056\n",
      "Epoch 85/150\n",
      "14/14 - 0s - 11ms/step - loss: 0.0049 - val_loss: 0.0036\n",
      "Epoch 86/150\n",
      "14/14 - 0s - 12ms/step - loss: 0.0050 - val_loss: 0.0021\n",
      "Epoch 87/150\n",
      "14/14 - 0s - 11ms/step - loss: 0.0030 - val_loss: 0.0082\n",
      "Epoch 88/150\n",
      "14/14 - 0s - 6ms/step - loss: 0.0043 - val_loss: 0.0035\n",
      "Epoch 89/150\n",
      "14/14 - 0s - 7ms/step - loss: 0.0043 - val_loss: 0.0060\n",
      "Epoch 90/150\n",
      "14/14 - 0s - 8ms/step - loss: 0.0040 - val_loss: 0.0031\n",
      "Epoch 91/150\n",
      "14/14 - 0s - 7ms/step - loss: 0.0033 - val_loss: 0.0038\n",
      "Epoch 92/150\n",
      "14/14 - 0s - 7ms/step - loss: 0.0039 - val_loss: 0.0074\n",
      "Epoch 93/150\n",
      "14/14 - 0s - 7ms/step - loss: 0.0033 - val_loss: 0.0036\n",
      "Epoch 94/150\n",
      "14/14 - 0s - 7ms/step - loss: 0.0040 - val_loss: 0.0081\n",
      "Epoch 95/150\n",
      "14/14 - 0s - 7ms/step - loss: 0.0041 - val_loss: 0.0031\n",
      "Epoch 96/150\n",
      "14/14 - 0s - 7ms/step - loss: 0.0047 - val_loss: 0.0028\n",
      "Epoch 97/150\n",
      "14/14 - 0s - 7ms/step - loss: 0.0040 - val_loss: 0.0089\n",
      "Epoch 98/150\n",
      "14/14 - 0s - 7ms/step - loss: 0.0029 - val_loss: 0.0041\n",
      "Epoch 99/150\n",
      "14/14 - 0s - 7ms/step - loss: 0.0032 - val_loss: 0.0041\n",
      "Epoch 100/150\n",
      "14/14 - 0s - 6ms/step - loss: 0.0030 - val_loss: 0.0036\n",
      "Epoch 101/150\n",
      "14/14 - 0s - 6ms/step - loss: 0.0030 - val_loss: 0.0035\n",
      "Epoch 102/150\n",
      "14/14 - 0s - 7ms/step - loss: 0.0034 - val_loss: 0.0049\n",
      "Epoch 103/150\n",
      "14/14 - 0s - 7ms/step - loss: 0.0030 - val_loss: 0.0032\n",
      "Epoch 104/150\n",
      "14/14 - 0s - 7ms/step - loss: 0.0040 - val_loss: 0.0039\n",
      "Epoch 105/150\n",
      "14/14 - 0s - 7ms/step - loss: 0.0035 - val_loss: 0.0039\n",
      "Epoch 106/150\n",
      "14/14 - 0s - 7ms/step - loss: 0.0037 - val_loss: 0.0028\n",
      "Epoch 107/150\n",
      "14/14 - 0s - 7ms/step - loss: 0.0033 - val_loss: 0.0031\n",
      "Epoch 108/150\n",
      "14/14 - 0s - 7ms/step - loss: 0.0036 - val_loss: 0.0050\n",
      "Epoch 109/150\n",
      "14/14 - 0s - 7ms/step - loss: 0.0034 - val_loss: 0.0031\n",
      "Epoch 110/150\n",
      "14/14 - 0s - 7ms/step - loss: 0.0039 - val_loss: 0.0031\n",
      "Epoch 111/150\n",
      "14/14 - 0s - 7ms/step - loss: 0.0031 - val_loss: 0.0053\n",
      "Epoch 112/150\n",
      "14/14 - 0s - 6ms/step - loss: 0.0031 - val_loss: 0.0043\n",
      "Epoch 113/150\n",
      "14/14 - 0s - 7ms/step - loss: 0.0034 - val_loss: 0.0032\n",
      "Epoch 114/150\n",
      "14/14 - 0s - 7ms/step - loss: 0.0033 - val_loss: 0.0027\n",
      "Epoch 115/150\n",
      "14/14 - 0s - 7ms/step - loss: 0.0027 - val_loss: 0.0070\n",
      "Epoch 116/150\n",
      "14/14 - 0s - 7ms/step - loss: 0.0039 - val_loss: 0.0035\n",
      "Epoch 117/150\n",
      "14/14 - 0s - 6ms/step - loss: 0.0035 - val_loss: 0.0036\n",
      "Epoch 118/150\n",
      "14/14 - 0s - 6ms/step - loss: 0.0027 - val_loss: 0.0037\n",
      "Epoch 119/150\n",
      "14/14 - 0s - 6ms/step - loss: 0.0026 - val_loss: 0.0054\n",
      "Epoch 120/150\n",
      "14/14 - 0s - 8ms/step - loss: 0.0027 - val_loss: 0.0046\n",
      "Epoch 121/150\n",
      "14/14 - 0s - 6ms/step - loss: 0.0030 - val_loss: 0.0040\n",
      "Epoch 122/150\n",
      "14/14 - 0s - 6ms/step - loss: 0.0034 - val_loss: 0.0025\n",
      "Epoch 123/150\n",
      "14/14 - 0s - 6ms/step - loss: 0.0026 - val_loss: 0.0060\n",
      "Epoch 124/150\n",
      "14/14 - 0s - 7ms/step - loss: 0.0033 - val_loss: 0.0027\n",
      "Epoch 125/150\n",
      "14/14 - 0s - 7ms/step - loss: 0.0028 - val_loss: 0.0035\n",
      "Epoch 126/150\n",
      "14/14 - 0s - 22ms/step - loss: 0.0029 - val_loss: 0.0025\n",
      "Epoch 127/150\n",
      "14/14 - 0s - 7ms/step - loss: 0.0029 - val_loss: 0.0028\n",
      "Epoch 128/150\n",
      "14/14 - 0s - 7ms/step - loss: 0.0034 - val_loss: 0.0053\n",
      "Epoch 129/150\n",
      "14/14 - 0s - 6ms/step - loss: 0.0031 - val_loss: 0.0037\n",
      "Epoch 130/150\n",
      "14/14 - 0s - 6ms/step - loss: 0.0035 - val_loss: 0.0036\n",
      "Epoch 131/150\n",
      "14/14 - 0s - 6ms/step - loss: 0.0031 - val_loss: 0.0033\n",
      "Epoch 132/150\n",
      "14/14 - 0s - 7ms/step - loss: 0.0035 - val_loss: 0.0049\n",
      "Epoch 133/150\n",
      "14/14 - 0s - 7ms/step - loss: 0.0032 - val_loss: 0.0039\n",
      "Epoch 134/150\n",
      "14/14 - 0s - 7ms/step - loss: 0.0032 - val_loss: 0.0048\n",
      "Epoch 135/150\n",
      "14/14 - 0s - 6ms/step - loss: 0.0026 - val_loss: 0.0020\n",
      "Epoch 136/150\n",
      "14/14 - 0s - 7ms/step - loss: 0.0025 - val_loss: 0.0055\n",
      "Epoch 137/150\n",
      "14/14 - 0s - 7ms/step - loss: 0.0030 - val_loss: 0.0021\n",
      "Epoch 138/150\n",
      "14/14 - 0s - 7ms/step - loss: 0.0027 - val_loss: 0.0026\n",
      "Epoch 139/150\n",
      "14/14 - 0s - 7ms/step - loss: 0.0033 - val_loss: 0.0037\n",
      "Epoch 140/150\n",
      "14/14 - 0s - 7ms/step - loss: 0.0031 - val_loss: 0.0025\n",
      "Epoch 141/150\n",
      "14/14 - 0s - 7ms/step - loss: 0.0031 - val_loss: 0.0021\n",
      "Epoch 142/150\n",
      "14/14 - 0s - 7ms/step - loss: 0.0029 - val_loss: 0.0036\n",
      "Epoch 143/150\n",
      "14/14 - 0s - 7ms/step - loss: 0.0033 - val_loss: 0.0025\n",
      "Epoch 144/150\n",
      "14/14 - 0s - 7ms/step - loss: 0.0025 - val_loss: 0.0022\n",
      "Epoch 145/150\n",
      "14/14 - 0s - 7ms/step - loss: 0.0032 - val_loss: 0.0013\n",
      "Epoch 146/150\n",
      "14/14 - 0s - 7ms/step - loss: 0.0031 - val_loss: 0.0018\n",
      "Epoch 147/150\n",
      "14/14 - 0s - 7ms/step - loss: 0.0026 - val_loss: 0.0056\n",
      "Epoch 148/150\n",
      "14/14 - 0s - 7ms/step - loss: 0.0026 - val_loss: 0.0024\n",
      "Epoch 149/150\n",
      "14/14 - 0s - 7ms/step - loss: 0.0025 - val_loss: 0.0023\n",
      "Epoch 150/150\n",
      "14/14 - 0s - 7ms/step - loss: 0.0031 - val_loss: 0.0054\n"
     ]
    }
   ],
   "source": [
    "history=model.fit(X_train_sc.reshape(-1, X_train_sc.shape[1], 1), y_train_sc, epochs=150, batch_size=16, verbose=2,\n",
    "         validation_data=(X_val_sc, y_val_sc))"
   ]
  },
  {
   "cell_type": "code",
   "execution_count": 13,
   "id": "1bbcf3f3-d3e6-4d3d-9d41-e8c9c7f1d836",
   "metadata": {},
   "outputs": [
    {
     "name": "stdout",
     "output_type": "stream",
     "text": [
      "\u001b[1m7/7\u001b[0m \u001b[32m━━━━━━━━━━━━━━━━━━━━\u001b[0m\u001b[37m\u001b[0m \u001b[1m0s\u001b[0m 15ms/step\n",
      "\u001b[1m1/1\u001b[0m \u001b[32m━━━━━━━━━━━━━━━━━━━━\u001b[0m\u001b[37m\u001b[0m \u001b[1m0s\u001b[0m 47ms/step\n",
      "\u001b[1m1/1\u001b[0m \u001b[32m━━━━━━━━━━━━━━━━━━━━\u001b[0m\u001b[37m\u001b[0m \u001b[1m0s\u001b[0m 125ms/step\n"
     ]
    }
   ],
   "source": [
    "train_pred=model.predict(X_train_sc)\n",
    "test_pred=model.predict(X_test_sc)\n",
    "val_pred=model.predict(X_val)"
   ]
  },
  {
   "cell_type": "code",
   "execution_count": 14,
   "id": "1129ec79-b418-49e3-8d5f-604e7477e584",
   "metadata": {},
   "outputs": [],
   "source": [
    "train_mse = mean_squared_error(y_train_sc, train_pred)\n",
    "test_mse = mean_squared_error(y_test_sc, test_pred)\n",
    "val_mse=mean_squared_error(y_val_sc,val_pred)"
   ]
  },
  {
   "cell_type": "code",
   "execution_count": 15,
   "id": "0dfe4b69-77c9-406f-ae4e-ae6fa50e489d",
   "metadata": {},
   "outputs": [
    {
     "name": "stdout",
     "output_type": "stream",
     "text": [
      "Training set mse: 0.0026113662803513606\n",
      "Testing set mse: 0.005475935363043549\n",
      "Validation mse: 0.005475935363043549\n"
     ]
    }
   ],
   "source": [
    "print(\"Training set mse:\", train_mse)\n",
    "print(\"Testing set mse:\", test_mse)\n",
    "print(\"Validation mse:\", test_mse)"
   ]
  },
  {
   "cell_type": "code",
   "execution_count": 16,
   "id": "b521d133-5793-4723-a94e-f71794317ca8",
   "metadata": {},
   "outputs": [],
   "source": [
    "from sklearn.metrics import mean_squared_error, r2_score\n",
    "from sklearn.metrics import mean_absolute_error"
   ]
  },
  {
   "cell_type": "code",
   "execution_count": 17,
   "id": "f6b72f19-f233-4e7a-a33f-216711043920",
   "metadata": {},
   "outputs": [],
   "source": [
    "train_r_sq = r2_score(y_train_sc, train_pred)\n",
    "test_r_sq = r2_score(y_test_sc, test_pred)\n",
    "val_r_sq=r2_score(y_val_sc,val_pred)"
   ]
  },
  {
   "cell_type": "code",
   "execution_count": 18,
   "id": "a3fe9a7e-fd2b-49ea-b745-393d576c064d",
   "metadata": {},
   "outputs": [
    {
     "name": "stdout",
     "output_type": "stream",
     "text": [
      "Training set r_squared: 0.9690579028506978\n",
      "Testing set r_squared: 0.9441292771181458\n",
      "Validation r_squared: 0.9441292771181458\n"
     ]
    }
   ],
   "source": [
    "print(\"Training set r_squared:\", train_r_sq)\n",
    "print(\"Testing set r_squared:\", test_r_sq)\n",
    "print(\"Validation r_squared:\", test_r_sq)"
   ]
  },
  {
   "cell_type": "code",
   "execution_count": 19,
   "id": "355d5dd2-48d2-47b1-b51d-f8c88880c48b",
   "metadata": {},
   "outputs": [],
   "source": [
    "train_mae = mean_absolute_error(y_train_sc, train_pred)\n",
    "test_mae = mean_absolute_error(y_test_sc, test_pred)\n",
    "val_mae=mean_absolute_error(y_val_sc,val_pred)"
   ]
  },
  {
   "cell_type": "code",
   "execution_count": 20,
   "id": "10e6c16a-4512-4a1c-8bc7-ec045e2bef7a",
   "metadata": {},
   "outputs": [
    {
     "name": "stdout",
     "output_type": "stream",
     "text": [
      "Training set mae: 0.04495438954228574\n",
      "Testing set mae: 0.06446636912634858\n",
      "Validation mae: 0.06446636912634858\n"
     ]
    }
   ],
   "source": [
    "print(\"Training set mae:\", train_mae)\n",
    "print(\"Testing set mae:\", test_mae)\n",
    "print(\"Validation mae:\", test_mae)"
   ]
  },
  {
   "cell_type": "code",
   "execution_count": 21,
   "id": "77ed0600-36fd-4598-96b7-5cee9e7b9154",
   "metadata": {},
   "outputs": [],
   "source": [
    "def predict_unknown(features):\n",
    "    # Ensure features are reshaped appropriately for the model input\n",
    "    features_2d = np.array(features).reshape(1, -1)\n",
    "    scaled_features = sc_x.transform(features_2d)\n",
    "    # Scale the input features\n",
    "    sc_features = scaled_features.reshape((scaled_features.shape[0], scaled_features.shape[1], 1))\n",
    "    # Make predictions\n",
    "    prediction = model.predict(sc_features)\n",
    "     # Reverse-transform the prediction to get the final result\n",
    "    prediction=sc_y.inverse_transform(prediction)\n",
    "    predicted_value = prediction[0][0]\n",
    "    \n",
    "    return predicted_value"
   ]
  },
  {
   "cell_type": "code",
   "execution_count": 22,
   "id": "e16bada1-a21b-45a9-843b-88b1507091be",
   "metadata": {},
   "outputs": [
    {
     "name": "stdin",
     "output_type": "stream",
     "text": [
      "Enter value for year:  2100\n",
      "Enter value for month:  12\n"
     ]
    }
   ],
   "source": [
    "user_input = []  # User input for features\n",
    "for feature_name in X.columns:\n",
    "    feature_value = float(input(f\"Enter value for {feature_name}: \"))\n",
    "    user_input.append(feature_value)"
   ]
  },
  {
   "cell_type": "code",
   "execution_count": 23,
   "id": "eedf170a-62db-4cf6-b498-986dbecb6330",
   "metadata": {},
   "outputs": [
    {
     "name": "stderr",
     "output_type": "stream",
     "text": [
      "C:\\Users\\DELL\\AppData\\Local\\Programs\\Python\\Python312\\Lib\\site-packages\\sklearn\\base.py:493: UserWarning: X does not have valid feature names, but MinMaxScaler was fitted with feature names\n",
      "  warnings.warn(\n"
     ]
    },
    {
     "name": "stdout",
     "output_type": "stream",
     "text": [
      "\u001b[1m1/1\u001b[0m \u001b[32m━━━━━━━━━━━━━━━━━━━━\u001b[0m\u001b[37m\u001b[0m \u001b[1m0s\u001b[0m 311ms/step\n",
      "Predicted value: 413.2155\n"
     ]
    }
   ],
   "source": [
    "predicted_value = predict_unknown(user_input)\n",
    "print(\"Predicted value:\", predicted_value)"
   ]
  },
  {
   "cell_type": "code",
   "execution_count": 24,
   "id": "c2a25825-4f31-4e6a-a117-0403c39e64c3",
   "metadata": {},
   "outputs": [
    {
     "data": {
      "image/png": "[encoded data removed]",
      "text/plain": [
       "<Figure size 640x480 with 1 Axes>"
      ]
     },
     "metadata": {},
     "output_type": "display_data"
    }
   ],
   "source": [
    "plt.plot(history.history['loss'])\n",
    "plt.plot(history.history['val_loss'])\n",
    "plt.title('Model loss')\n",
    "plt.ylabel('Loss')\n",
    "plt.xlabel('Epoch')\n",
    "plt.legend(['Train', 'Validation'], loc='upper right')\n",
    "plt.show()"
   ]
  },
  {
   "cell_type": "code",
   "execution_count": 35,
   "id": "a9022ee6-9ce8-4d6a-b331-539a39b6f91e",
   "metadata": {},
   "outputs": [],
   "source": [
    "x=X_test['month'].head(10)\n",
    "y=test_pred[:10]"
   ]
  },
  {
   "cell_type": "code",
   "execution_count": 36,
   "id": "b36ff6a6-4a51-42a8-9569-7853dce9e2a3",
   "metadata": {},
   "outputs": [
    {
     "data": {
      "image/png": "[encoded data removed]",
      "text/plain": [
       "<Figure size 1000x400 with 1 Axes>"
      ]
     },
     "metadata": {},
     "output_type": "display_data"
    }
   ],
   "source": [
    "plt.figure(figsize=(10, 4))\n",
    "plt.scatter(x, y)\n",
    "plt.xlabel('X Variable')\n",
    "plt.ylabel('Y Variable')\n",
    "plt.title('Scatter Plot of Two Variables')\n",
    "plt.grid(True)  # Optional: add grid\n",
    "plt.show()"
   ]
  },
  {
   "cell_type": "code",
   "execution_count": 33,
   "id": "40c98bfc-4c09-4897-ba09-3536eaf3a87b",
   "metadata": {},
   "outputs": [],
   "source": [
    "x=X_test['month'].head(10)\n",
    "y=y_test[:10]"
   ]
  },
  {
   "cell_type": "code",
   "execution_count": 34,
   "id": "3fd36660-cbeb-4b18-b74a-0fd232b17e5b",
   "metadata": {},
   "outputs": [
    {
     "data": {
      "image/png": "[encoded data removed]",
      "text/plain": [
       "<Figure size 1000x400 with 1 Axes>"
      ]
     },
     "metadata": {},
     "output_type": "display_data"
    }
   ],
   "source": [
    "plt.figure(figsize=(10, 4))\n",
    "plt.scatter(x, y)\n",
    "plt.xlabel('X Variable')\n",
    "plt.ylabel('Y Variable')\n",
    "plt.title('Scatter Plot of Two Variables')\n",
    "plt.grid(True)  # Optional: add grid\n",
    "plt.show()"
   ]
  },
  {
   "cell_type": "code",
   "execution_count": null,
   "id": "73b4aaf8-0865-4dbb-8891-516589dc7556",
   "metadata": {},
   "outputs": [],
   "source": []
  }
 ],
 "metadata": {
  "kernelspec": {
   "display_name": "Python 3 (ipykernel)",
   "language": "python",
   "name": "python3"
  },
  "language_info": {
   "codemirror_mode": {
    "name": "ipython",
    "version": 3
   },
   "file_extension": ".py",
   "mimetype": "text/x-python",
   "name": "python",
   "nbconvert_exporter": "python",
   "pygments_lexer": "ipython3",
   "version": "3.12.2"
  }
 },
 "nbformat": 4,
 "nbformat_minor": 5
}
